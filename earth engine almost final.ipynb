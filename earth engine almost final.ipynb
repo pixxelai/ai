{
 "cells": [
  {
   "cell_type": "code",
   "execution_count": 1,
   "metadata": {
    "collapsed": false,
    "deletable": true,
    "editable": true
   },
   "outputs": [],
   "source": [
    "import ee\n",
    "ee.Initialize()"
   ]
  },
  {
   "cell_type": "code",
   "execution_count": null,
   "metadata": {
    "collapsed": false
   },
   "outputs": [
    {
     "name": "stdout",
     "output_type": "stream",
     "text": [
      "46\n",
      "1\n",
      "2\n",
      "3\n",
      "4\n",
      "5\n",
      "6\n",
      "7\n",
      "8\n",
      "9\n",
      "10\n",
      "11\n",
      "12\n",
      "13\n",
      "14\n",
      "15\n",
      "16\n",
      "17\n",
      "18\n",
      "19\n",
      "20\n",
      "21\n",
      "22\n",
      "23\n",
      "24\n",
      "25\n",
      "26\n",
      "27\n",
      "28\n",
      "29\n",
      "30\n",
      "31\n",
      "32\n",
      "33\n",
      "34\n",
      "35\n",
      "36\n",
      "37\n",
      "38\n",
      "39\n",
      "40\n",
      "41\n",
      "42\n",
      "43\n",
      "44\n"
     ]
    }
   ],
   "source": [
    "import numpy as np\n",
    "dateFilter = ee.Filter.date('2014-01-01', '2014-12-31')\n",
    "modis_sr=ee.ImageCollection('MODIS/006/MOD09GA').select('sur_refl_b01','sur_refl_b02','sur_refl_b03','sur_refl_b04','sur_refl_b05','sur_refl_b06','sur_refl_b07').filter(dateFilter)\n",
    "modis_lst=ee.ImageCollection('MODIS/006/MOD11A2').select('LST_Day_1km').filter(dateFilter)\n",
    "modis_ndvi=ee.ImageCollection('MODIS/MOD09GA_006_NDVI').select('NDVI').filter(dateFilter)\n",
    "filterTimeEq = ee.Filter.equals( leftField= 'system:time_start', rightField= 'system:time_start' ) \n",
    "simpleJoin = ee.Join.simple() \n",
    "srjoin = simpleJoin.apply(modis_sr, modis_lst, filterTimeEq)\n",
    "print(srjoin.size().getInfo())\n",
    "sr=srjoin.getInfo()['features']\n",
    "index=len(sr)\n",
    "lstjoin= simpleJoin.apply(modis_lst,modis_sr,filterTimeEq)\n",
    "lst=lstjoin.getInfo()['features']\n",
    "ndvijoin=simpleJoin.apply(modis_ndvi,lstjoin,filterTimeEq)\n",
    "ndvi=ndvijoin.getInfo()['features']\n",
    "region = ee.Feature(ee.FeatureCollection('ft:1Ec8IWsP8asxN-ywSqgXWMuBaxI6pPaeh6hC64lA').filter(ee.Filter.eq('G200_REGIO', 'Sierra Nevada Coniferous Forests')).first())\n",
    "flag=0\n",
    "hist3d=[]\n",
    "for i in range(index):\n",
    "  sr_img=ee.Image(sr[i][\"id\"]).select('sur_refl_b01','sur_refl_b02','sur_refl_b03','sur_refl_b04','sur_refl_b05','sur_refl_b06','sur_refl_b07')\n",
    "  lst_img=ee.Image(lst[i]['id']).select('LST_Day_1km','LST_Night_1km')\n",
    "  ndvi_img=ee.Image(ndvi[i]['id'])\n",
    "  sr_img=sr_img.updateMask(ndvi_img.select('NDVI').lte(0.55) and ndvi_img.select('NDVI').gte(0.1))\n",
    "  lst_img=lst_img.updateMask(ndvi_img.lte(0.55) and ndvi_img.gte(0.1))\n",
    "  for band in ['sur_refl_b01','sur_refl_b02','sur_refl_b03','sur_refl_b04','sur_refl_b05','sur_refl_b06','sur_refl_b07']:\n",
    "    hist=sr_img.select(band).reduceRegion(reducer=ee.Reducer.fixedHistogram(min=-100,max=16000,steps=32),scale=500,bestEffort=True,geometry=region.geometry())\n",
    "    hist_data=hist.get(band).getInfo()\n",
    "    data=np.asarray(hist_data)\n",
    "    if hist_data is None:\n",
    "      flag=1\n",
    "      break\n",
    "    if band == 'sur_refl_b01':\n",
    "        hist2d=data[:,1]\n",
    "        hist2d=np.expand_dims(hist2d,axis=1)\n",
    "    else:\n",
    "        hist2d=np.concatenate((hist2d,np.expand_dims(data[:,1],axis=1)),axis=1)\n",
    "    #print(hist3d.shape)\n",
    "  if flag:\n",
    "    flag=0\n",
    "    continue\n",
    "  for band in ['LST_Day_1km','LST_Night_1km']:\n",
    "    hist=lst_img.select(band).reduceRegion(reducer=ee.Reducer.fixedHistogram(min=7500,max=65535,steps=32),scale=0.02,bestEffort=True,geometry=region.geometry())\n",
    "    hist_data=hist.get(band).getInfo()\n",
    "    data=np.asarray(hist_data)\n",
    "    hist2d=np.concatenate((hist2d,np.expand_dims(data[:,1],axis=1)),axis=1)\n",
    "    #print(hist3d.shape)\n",
    "  hist3d.append(hist2d)\n",
    "  print(len(hist3d))\n",
    "hist3d=np.asarray(hist3d)\n",
    "hist3d=np.swapaxes(hist3d,0,1)\n",
    "print(hist3d.shape)"
   ]
  }
 ],
 "metadata": {
  "kernelspec": {
   "display_name": "Python 2",
   "language": "python",
   "name": "python2"
  },
  "language_info": {
   "codemirror_mode": {
    "name": "ipython",
    "version": 2
   },
   "file_extension": ".py",
   "mimetype": "text/x-python",
   "name": "python",
   "nbconvert_exporter": "python",
   "pygments_lexer": "ipython2",
   "version": "2.7.12"
  }
 },
 "nbformat": 4,
 "nbformat_minor": 2
}
