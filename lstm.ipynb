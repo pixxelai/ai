{
  "nbformat": 4,
  "nbformat_minor": 0,
  "metadata": {
    "colab": {
      "name": "Untitled0.ipynb",
      "version": "0.3.2",
      "views": {},
      "default_view": {},
      "provenance": []
    },
    "kernelspec": {
      "name": "python2",
      "display_name": "Python 2"
    },
    "accelerator": "GPU"
  },
  "cells": [
    {
      "metadata": {
        "id": "EVVeFOpVUlF0",
        "colab_type": "code",
        "colab": {
          "autoexec": {
            "startup": false,
            "wait_interval": 0
          }
        }
      },
      "cell_type": "code",
      "source": [
        "import numpy as np\n",
        "from keras.models import Sequential\n",
        "from keras import losses\n",
        "from keras.layers import Dense, LSTM, Dropout\n",
        "import tensorflow as tf\n",
        "import skimage\n",
        "from sklearn.model_selection import train_test_split"
      ],
      "execution_count": 0,
      "outputs": []
    },
    {
      "metadata": {
        "id": "d41ASZy95Y7Y",
        "colab_type": "code",
        "colab": {
          "autoexec": {
            "startup": false,
            "wait_interval": 0
          },
          "base_uri": "https://localhost:8080/",
          "height": 287
        },
        "outputId": "8436b6dd-5eec-4cca-9a3a-812697aae25c",
        "executionInfo": {
          "status": "ok",
          "timestamp": 1530274560484,
          "user_tz": -330,
          "elapsed": 1259,
          "user": {
            "displayName": "RISHAV RISHAV",
            "photoUrl": "//lh6.googleusercontent.com/-LK7IZ-WXIF0/AAAAAAAAAAI/AAAAAAAAABg/-WRn-e2a8EQ/s50-c-k-no/photo.jpg",
            "userId": "102962485138569645085"
          }
        }
      },
      "cell_type": "code",
      "source": [
        "model = Sequential()\n",
        "model.add(LSTM(128,batch_input_shape = [None,30,288] , return_sequences = False))\n",
        "model.add(Dropout(0.75))\n",
        "model.add(Dense(256,activation = 'relu'))\n",
        "model.add(Dense(1,activation = 'relu'))\n",
        "model.summary()"
      ],
      "execution_count": 45,
      "outputs": [
        {
          "output_type": "stream",
          "text": [
            "_________________________________________________________________\n",
            "Layer (type)                 Output Shape              Param #   \n",
            "=================================================================\n",
            "lstm_5 (LSTM)                (None, 128)               213504    \n",
            "_________________________________________________________________\n",
            "dropout_11 (Dropout)         (None, 128)               0         \n",
            "_________________________________________________________________\n",
            "dense_9 (Dense)              (None, 256)               33024     \n",
            "_________________________________________________________________\n",
            "dense_10 (Dense)             (None, 1)                 257       \n",
            "=================================================================\n",
            "Total params: 246,785\n",
            "Trainable params: 246,785\n",
            "Non-trainable params: 0\n",
            "_________________________________________________________________\n"
          ],
          "name": "stdout"
        }
      ]
    },
    {
      "metadata": {
        "id": "mI-_JyX9WJ1B",
        "colab_type": "code",
        "colab": {
          "autoexec": {
            "startup": false,
            "wait_interval": 0
          }
        }
      },
      "cell_type": "code",
      "source": [
        "a = []\n",
        "b = []\n",
        "for i in range(100):\n",
        "  a.append(np.random.randn(30,288))\n",
        "  b.append(np.random.randn(1))\n",
        "a = np.array(a)\n",
        "b = np.array(b)"
      ],
      "execution_count": 0,
      "outputs": []
    },
    {
      "metadata": {
        "id": "LnkpZdtnYMnu",
        "colab_type": "code",
        "colab": {
          "autoexec": {
            "startup": false,
            "wait_interval": 0
          }
        }
      },
      "cell_type": "code",
      "source": [
        "X_train, X_test, y_train, y_test = train_test_split(a, b, test_size=0.2, random_state=42)"
      ],
      "execution_count": 0,
      "outputs": []
    },
    {
      "metadata": {
        "id": "UFrG_5wWY7V_",
        "colab_type": "code",
        "colab": {
          "autoexec": {
            "startup": false,
            "wait_interval": 0
          }
        }
      },
      "cell_type": "code",
      "source": [
        "model.compile(optimizer='rmsprop',loss=losses.mean_squared_error,metrics = ['accuracy'])"
      ],
      "execution_count": 0,
      "outputs": []
    },
    {
      "metadata": {
        "id": "V6TBZP_Ka0pc",
        "colab_type": "code",
        "colab": {
          "autoexec": {
            "startup": false,
            "wait_interval": 0
          },
          "base_uri": "https://localhost:8080/",
          "height": 1513
        },
        "outputId": "7c352137-9190-4e3b-9524-296bb1db5dc7",
        "executionInfo": {
          "status": "ok",
          "timestamp": 1530274587176,
          "user_tz": -330,
          "elapsed": 12392,
          "user": {
            "displayName": "RISHAV RISHAV",
            "photoUrl": "//lh6.googleusercontent.com/-LK7IZ-WXIF0/AAAAAAAAAAI/AAAAAAAAABg/-WRn-e2a8EQ/s50-c-k-no/photo.jpg",
            "userId": "102962485138569645085"
          }
        }
      },
      "cell_type": "code",
      "source": [
        "model.fit(X_train, y_train, validation_data=(X_test, y_test),epochs=40, batch_size=32,verbose=1)"
      ],
      "execution_count": 49,
      "outputs": [
        {
          "output_type": "stream",
          "text": [
            "Train on 80 samples, validate on 20 samples\n",
            "Epoch 1/40\n",
            "80/80 [==============================] - 1s 12ms/step - loss: 1.0851 - acc: 0.0000e+00 - val_loss: 0.8011 - val_acc: 0.0000e+00\n",
            "Epoch 2/40\n",
            "80/80 [==============================] - 0s 3ms/step - loss: 1.0149 - acc: 0.0000e+00 - val_loss: 0.8059 - val_acc: 0.0000e+00\n",
            "Epoch 3/40\n",
            "80/80 [==============================] - 0s 3ms/step - loss: 0.9091 - acc: 0.0000e+00 - val_loss: 0.8153 - val_acc: 0.0000e+00\n",
            "Epoch 4/40\n",
            "80/80 [==============================] - 0s 3ms/step - loss: 0.8330 - acc: 0.0000e+00 - val_loss: 0.8169 - val_acc: 0.0000e+00\n",
            "Epoch 5/40\n",
            "80/80 [==============================] - 0s 3ms/step - loss: 0.8039 - acc: 0.0000e+00 - val_loss: 0.8078 - val_acc: 0.0000e+00\n",
            "Epoch 6/40\n",
            "80/80 [==============================] - 0s 3ms/step - loss: 0.6894 - acc: 0.0000e+00 - val_loss: 0.8100 - val_acc: 0.0000e+00\n",
            "Epoch 7/40\n",
            "80/80 [==============================] - 0s 3ms/step - loss: 0.6773 - acc: 0.0000e+00 - val_loss: 0.8138 - val_acc: 0.0000e+00\n",
            "Epoch 8/40\n",
            "80/80 [==============================] - 0s 3ms/step - loss: 0.6351 - acc: 0.0000e+00 - val_loss: 0.8007 - val_acc: 0.0000e+00\n",
            "Epoch 9/40\n",
            "80/80 [==============================] - 0s 3ms/step - loss: 0.6383 - acc: 0.0000e+00 - val_loss: 0.7895 - val_acc: 0.0000e+00\n",
            "Epoch 10/40\n",
            "80/80 [==============================] - 0s 3ms/step - loss: 0.6098 - acc: 0.0000e+00 - val_loss: 0.7951 - val_acc: 0.0000e+00\n",
            "Epoch 11/40\n",
            "80/80 [==============================] - 0s 3ms/step - loss: 0.6072 - acc: 0.0000e+00 - val_loss: 0.7996 - val_acc: 0.0000e+00\n",
            "Epoch 12/40\n",
            "80/80 [==============================] - 0s 3ms/step - loss: 0.6108 - acc: 0.0000e+00 - val_loss: 0.7906 - val_acc: 0.0000e+00\n",
            "Epoch 13/40\n",
            "80/80 [==============================] - 0s 3ms/step - loss: 0.6535 - acc: 0.0000e+00 - val_loss: 0.7949 - val_acc: 0.0000e+00\n",
            "Epoch 14/40\n",
            "80/80 [==============================] - 0s 3ms/step - loss: 0.6774 - acc: 0.0000e+00 - val_loss: 0.8011 - val_acc: 0.0000e+00\n",
            "Epoch 15/40\n",
            "80/80 [==============================] - 0s 3ms/step - loss: 0.5843 - acc: 0.0000e+00 - val_loss: 0.8077 - val_acc: 0.0000e+00\n",
            "Epoch 16/40\n",
            "80/80 [==============================] - 0s 3ms/step - loss: 0.5800 - acc: 0.0000e+00 - val_loss: 0.8225 - val_acc: 0.0000e+00\n",
            "Epoch 17/40\n",
            "80/80 [==============================] - 0s 3ms/step - loss: 0.6355 - acc: 0.0000e+00 - val_loss: 0.8241 - val_acc: 0.0000e+00\n",
            "Epoch 18/40\n",
            "80/80 [==============================] - 0s 3ms/step - loss: 0.6536 - acc: 0.0000e+00 - val_loss: 0.8098 - val_acc: 0.0000e+00\n",
            "Epoch 19/40\n",
            "32/80 [===========>..................] - ETA: 0s - loss: 0.5535 - acc: 0.0000e+00"
          ],
          "name": "stdout"
        },
        {
          "output_type": "stream",
          "text": [
            "80/80 [==============================] - 0s 3ms/step - loss: 0.6280 - acc: 0.0000e+00 - val_loss: 0.8229 - val_acc: 0.0000e+00\n",
            "Epoch 20/40\n",
            "80/80 [==============================] - 0s 3ms/step - loss: 0.5831 - acc: 0.0000e+00 - val_loss: 0.8171 - val_acc: 0.0000e+00\n",
            "Epoch 21/40\n",
            "80/80 [==============================] - 0s 3ms/step - loss: 0.5505 - acc: 0.0000e+00 - val_loss: 0.8148 - val_acc: 0.0000e+00\n",
            "Epoch 22/40\n",
            "80/80 [==============================] - 0s 3ms/step - loss: 0.5805 - acc: 0.0000e+00 - val_loss: 0.8112 - val_acc: 0.0000e+00\n",
            "Epoch 23/40\n",
            "80/80 [==============================] - 0s 3ms/step - loss: 0.5610 - acc: 0.0000e+00 - val_loss: 0.8147 - val_acc: 0.0000e+00\n",
            "Epoch 24/40\n",
            "80/80 [==============================] - 0s 3ms/step - loss: 0.5915 - acc: 0.0000e+00 - val_loss: 0.8218 - val_acc: 0.0000e+00\n",
            "Epoch 25/40\n",
            "80/80 [==============================] - 0s 3ms/step - loss: 0.6135 - acc: 0.0000e+00 - val_loss: 0.8198 - val_acc: 0.0000e+00\n",
            "Epoch 26/40\n",
            "80/80 [==============================] - 0s 3ms/step - loss: 0.5935 - acc: 0.0000e+00 - val_loss: 0.8021 - val_acc: 0.0000e+00\n",
            "Epoch 27/40\n",
            "80/80 [==============================] - 0s 3ms/step - loss: 0.5787 - acc: 0.0000e+00 - val_loss: 0.7969 - val_acc: 0.0000e+00\n",
            "Epoch 28/40\n",
            "80/80 [==============================] - 0s 3ms/step - loss: 0.5872 - acc: 0.0000e+00 - val_loss: 0.8148 - val_acc: 0.0000e+00\n",
            "Epoch 29/40\n",
            "80/80 [==============================] - 0s 3ms/step - loss: 0.5974 - acc: 0.0000e+00 - val_loss: 0.8231 - val_acc: 0.0000e+00\n",
            "Epoch 30/40\n",
            "80/80 [==============================] - 0s 3ms/step - loss: 0.5783 - acc: 0.0000e+00 - val_loss: 0.8183 - val_acc: 0.0000e+00\n",
            "Epoch 31/40\n",
            "80/80 [==============================] - 0s 3ms/step - loss: 0.5625 - acc: 0.0000e+00 - val_loss: 0.8288 - val_acc: 0.0000e+00\n",
            "Epoch 32/40\n",
            "80/80 [==============================] - 0s 3ms/step - loss: 0.5552 - acc: 0.0000e+00 - val_loss: 0.8170 - val_acc: 0.0000e+00\n",
            "Epoch 33/40\n",
            "80/80 [==============================] - 0s 3ms/step - loss: 0.5552 - acc: 0.0000e+00 - val_loss: 0.8152 - val_acc: 0.0000e+00\n",
            "Epoch 34/40\n",
            "80/80 [==============================] - 0s 3ms/step - loss: 0.5974 - acc: 0.0000e+00 - val_loss: 0.8024 - val_acc: 0.0000e+00\n",
            "Epoch 35/40\n",
            "80/80 [==============================] - 0s 3ms/step - loss: 0.5527 - acc: 0.0000e+00 - val_loss: 0.8088 - val_acc: 0.0000e+00\n",
            "Epoch 36/40\n",
            "80/80 [==============================] - 0s 3ms/step - loss: 0.6278 - acc: 0.0000e+00 - val_loss: 0.8099 - val_acc: 0.0000e+00\n",
            "Epoch 37/40\n",
            "64/80 [=======================>......] - ETA: 0s - loss: 0.4985 - acc: 0.0000e+00"
          ],
          "name": "stdout"
        },
        {
          "output_type": "stream",
          "text": [
            "\b\b\b\b\b\b\b\b\b\b\b\b\b\b\b\b\b\b\b\b\b\b\b\b\b\b\b\b\b\b\b\b\b\b\b\b\b\b\b\b\b\b\b\b\b\b\b\b\b\b\b\b\b\b\b\b\b\b\b\b\b\b\b\b\b\b\b\b\b\b\b\b\b\b\b\b\b\b\b\b\b\r80/80 [==============================] - 0s 3ms/step - loss: 0.5694 - acc: 0.0000e+00 - val_loss: 0.8136 - val_acc: 0.0000e+00\n",
            "Epoch 38/40\n",
            "80/80 [==============================] - 0s 3ms/step - loss: 0.5518 - acc: 0.0000e+00 - val_loss: 0.8283 - val_acc: 0.0000e+00\n",
            "Epoch 39/40\n",
            "80/80 [==============================] - 0s 3ms/step - loss: 0.5602 - acc: 0.0000e+00 - val_loss: 0.8159 - val_acc: 0.0000e+00\n",
            "Epoch 40/40\n",
            "80/80 [==============================] - 0s 3ms/step - loss: 0.5501 - acc: 0.0000e+00 - val_loss: 0.8236 - val_acc: 0.0000e+00\n"
          ],
          "name": "stdout"
        },
        {
          "output_type": "execute_result",
          "data": {
            "text/plain": [
              "<keras.callbacks.History at 0x7f4ce7a53fd0>"
            ]
          },
          "metadata": {
            "tags": []
          },
          "execution_count": 49
        }
      ]
    },
    {
      "metadata": {
        "id": "Q75atIOfdKgw",
        "colab_type": "code",
        "colab": {
          "autoexec": {
            "startup": false,
            "wait_interval": 0
          }
        }
      },
      "cell_type": "code",
      "source": [
        ""
      ],
      "execution_count": 0,
      "outputs": []
    }
  ]
}